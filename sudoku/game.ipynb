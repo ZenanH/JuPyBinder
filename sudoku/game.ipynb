{
 "cells": [
  {
   "attachments": {},
   "cell_type": "markdown",
   "metadata": {},
   "source": [
    "# SudokuGame\n",
    "\n",
    "> Sudoku in Julia Language -- 06.03.2023\n",
    "\n",
    "### 1. Import package"
   ]
  },
  {
   "cell_type": "code",
   "execution_count": 1,
   "metadata": {},
   "outputs": [],
   "source": [
    "path = joinpath(@__DIR__, \"src\", \"sudoku.jl\")\n",
    "include(path)\n",
    "using .SudokuGame"
   ]
  },
  {
   "attachments": {},
   "cell_type": "markdown",
   "metadata": {},
   "source": [
    "### 2. Generate a New Game\n",
    "\n",
    "- `mode` can be one of `:hard`, `:normal`, `:easy`. <br>\n",
    "- `sudoku_gen()` will choose easy mode."
   ]
  },
  {
   "cell_type": "code",
   "execution_count": 5,
   "metadata": {},
   "outputs": [
    {
     "data": {
      "text/plain": [
       "   C1  C2  C3  C4  C5  C6  C7  C8  C9\n",
       "  ┌───┬───┬───┬───┬───┬───┬───┬───┬───┐\n",
       "R1│   │   │   │   | 2 | 7 |   | 4 | 6 |R1\n",
       "  ├───┼───┼───┼───┼───┼───┼───┼───┼───┤\n",
       "R2│ 4 │ 1 │ 7 │   |   | 6 |   |   | 2 |R2\n",
       "  ├───┼───┼───┼───┼───┼───┼───┼───┼───┤\n",
       "R3│   │   │ 6 │ 3 | 4 |   | 8 | 7 |   |R3\n",
       "  ├───┼───┼───┼───┼───┼───┼───┼───┼───┤\n",
       "R4│   │   │ 2 │ 1 | 6 |   |   |   |   |R4\n",
       "  ├───┼───┼───┼───┼───┼───┼───┼───┼───┤\n",
       "R5│ 7 │   │ 1 │ 2 | 8 | 5 |   | 9 | 3 |R5\n",
       "  ├───┼───┼───┼───┼───┼───┼───┼───┼───┤\n",
       "R6│   │ 5 │ 8 │   | 9 |   |   | 6 |   |R6\n",
       "  ├───┼───┼───┼───┼───┼───┼───┼───┼───┤\n",
       "R7│ 1 │   │ 9 │   |   |   |   | 5 |   |R7\n",
       "  ├───┼───┼───┼───┼───┼───┼───┼───┼───┤\n",
       "R8│   │ 2 │   │   |   |   |   |   |   |R8\n",
       "  ├───┼───┼───┼───┼───┼───┼───┼───┼───┤\n",
       "R9│   │   │   │   |   |   |   |   |   |R9\n",
       "  └───┴───┴───┴───┴───┴───┴───┴───┴───┘\n",
       "   C1  C2  C3  C4  C5  C6  C7  C8  C9\n",
       "\n",
       "     Mode: normal | Filling rate: 39%\n"
      ]
     },
     "metadata": {},
     "output_type": "display_data"
    },
    {
     "name": "stdout",
     "output_type": "stream",
     "text": [
      "\u001b[0;0H\u001b[2J"
     ]
    }
   ],
   "source": [
    "test = sudoku_gen(mode=:normal)"
   ]
  },
  {
   "attachments": {},
   "cell_type": "markdown",
   "metadata": {},
   "source": [
    "### 3. Solution\n",
    "\n",
    "Use `.solve[row, column]` to access to the sudoku."
   ]
  },
  {
   "cell_type": "code",
   "execution_count": 13,
   "metadata": {},
   "outputs": [
    {
     "data": {
      "text/plain": [
       "2"
      ]
     },
     "metadata": {},
     "output_type": "display_data"
    }
   ],
   "source": [
    "test.solve[1, 1] = 2"
   ]
  },
  {
   "cell_type": "code",
   "execution_count": 14,
   "metadata": {},
   "outputs": [
    {
     "data": {
      "text/plain": [
       "   C1  C2  C3  C4  C5  C6  C7  C8  C9\n",
       "  ┌───┬───┬───┬───┬───┬───┬───┬───┬───┐\n",
       "R1│ 2 │   │   │   | 2 | 7 |   | 4 | 6 |R1\n",
       "  ├───┼───┼───┼───┼───┼───┼───┼───┼───┤\n",
       "R2│ 4 │ 1 │ 7 │   |   | 6 |   |   | 2 |R2\n",
       "  ├───┼───┼───┼───┼───┼───┼───┼───┼───┤\n",
       "R3│   │   │ 6 │ 3 | 4 |   | 8 | 7 |   |R3\n",
       "  ├───┼───┼───┼───┼───┼───┼───┼───┼───┤\n",
       "R4│   │   │ 2 │ 1 | 6 |   |   |   |   |R4\n",
       "  ├───┼───┼───┼───┼───┼───┼───┼───┼───┤\n",
       "R5│ 7 │   │ 1 │ 2 | 8 | 5 |   | 9 | 3 |R5\n",
       "  ├───┼───┼───┼───┼───┼───┼───┼───┼───┤\n",
       "R6│   │ 5 │ 8 │   | 9 |   |   | 6 |   |R6\n",
       "  ├───┼───┼───┼───┼───┼───┼───┼───┼───┤\n",
       "R7│ 1 │   │ 9 │   |   |   |   | 5 |   |R7\n",
       "  ├───┼───┼───┼───┼───┼───┼───┼───┼───┤\n",
       "R8│   │ 2 │   │   |   |   |   |   |   |R8\n",
       "  ├───┼───┼───┼───┼───┼───┼───┼───┼───┤\n",
       "R9│   │   │   │   |   |   |   |   |   |R9\n",
       "  └───┴───┴───┴───┴───┴───┴───┴───┴───┘\n",
       "   C1  C2  C3  C4  C5  C6  C7  C8  C9\n",
       "\n",
       "     Mode: normal | Filling rate: 40%\n"
      ]
     },
     "metadata": {},
     "output_type": "display_data"
    },
    {
     "name": "stdout",
     "output_type": "stream",
     "text": [
      "\u001b[0;0H\u001b[2J"
     ]
    }
   ],
   "source": [
    "test"
   ]
  },
  {
   "attachments": {},
   "cell_type": "markdown",
   "metadata": {},
   "source": [
    "### 4. Determination"
   ]
  },
  {
   "cell_type": "code",
   "execution_count": 15,
   "metadata": {},
   "outputs": [
    {
     "name": "stdout",
     "output_type": "stream",
     "text": [
      "❌ Error in Row 1\n",
      "❌ Error in Col 1\n",
      "❌ Error in Row 2\n",
      "❌ Error in Col 2\n",
      "❌ Error in Row 3\n",
      "❌ Error in Col 3\n",
      "❌ Error in Row 4\n",
      "❌ Error in Col 4\n",
      "❌ Error in Row 5\n",
      "❌ Error in Col 5\n",
      "❌ Error in Row 6\n",
      "❌ Error in Col 6\n",
      "❌ Error in Row 7\n",
      "❌ Error in Col 7\n",
      "❌ Error in Row 8\n",
      "❌ Error in Col 8\n",
      "❌ Error in Row 9\n",
      "❌ Error in Col 9\n",
      "❌ Error in block C13R13\n",
      "❌ Error in block C13R46\n",
      "❌ Error in block C13R79\n",
      "❌ Error in block C46R13\n",
      "❌ Error in block C46R46\n",
      "❌ Error in block C46R79\n",
      "❌ Error in block C79R13\n",
      "❌ Error in block C79R46\n",
      "❌ Error in block C79R79\n"
     ]
    }
   ],
   "source": [
    "determin(test)"
   ]
  },
  {
   "attachments": {},
   "cell_type": "markdown",
   "metadata": {},
   "source": [
    "### 5. Reset your Solution"
   ]
  },
  {
   "cell_type": "code",
   "execution_count": 16,
   "metadata": {},
   "outputs": [],
   "source": [
    "reset!(test)"
   ]
  },
  {
   "cell_type": "code",
   "execution_count": 17,
   "metadata": {},
   "outputs": [
    {
     "data": {
      "text/plain": [
       "   C1  C2  C3  C4  C5  C6  C7  C8  C9\n",
       "  ┌───┬───┬───┬───┬───┬───┬───┬───┬───┐\n",
       "R1│   │   │   │   | 2 | 7 |   | 4 | 6 |R1\n",
       "  ├───┼───┼───┼───┼───┼───┼───┼───┼───┤\n",
       "R2│ 4 │ 1 │ 7 │   |   | 6 |   |   | 2 |R2\n",
       "  ├───┼───┼───┼───┼───┼───┼───┼───┼───┤\n",
       "R3│   │   │ 6 │ 3 | 4 |   | 8 | 7 |   |R3\n",
       "  ├───┼───┼───┼───┼───┼───┼───┼───┼───┤\n",
       "R4│   │   │ 2 │ 1 | 6 |   |   |   |   |R4\n",
       "  ├───┼───┼───┼───┼───┼───┼───┼───┼───┤\n",
       "R5│ 7 │   │ 1 │ 2 | 8 | 5 |   | 9 | 3 |R5\n",
       "  ├───┼───┼───┼───┼───┼───┼───┼───┼───┤\n",
       "R6│   │ 5 │ 8 │   | 9 |   |   | 6 |   |R6\n",
       "  ├───┼───┼───┼───┼───┼───┼───┼───┼───┤\n",
       "R7│ 1 │   │ 9 │   |   |   |   | 5 |   |R7\n",
       "  ├───┼───┼───┼───┼───┼───┼───┼───┼───┤\n",
       "R8│   │ 2 │   │   |   |   |   |   |   |R8\n",
       "  ├───┼───┼───┼───┼───┼───┼───┼───┼───┤\n",
       "R9│   │   │   │   |   |   |   |   |   |R9\n",
       "  └───┴───┴───┴───┴───┴───┴───┴───┴───┘\n",
       "   C1  C2  C3  C4  C5  C6  C7  C8  C9\n",
       "\n",
       "     Mode: normal | Filling rate: 39%\n"
      ]
     },
     "metadata": {},
     "output_type": "display_data"
    },
    {
     "name": "stdout",
     "output_type": "stream",
     "text": [
      "\u001b[0;0H\u001b[2J"
     ]
    }
   ],
   "source": [
    "test"
   ]
  },
  {
   "attachments": {},
   "cell_type": "markdown",
   "metadata": {},
   "source": [
    "### 6. Check the answer"
   ]
  },
  {
   "cell_type": "code",
   "execution_count": 12,
   "metadata": {},
   "outputs": [
    {
     "data": {
      "text/plain": [
       "9×9 Matrix{Int64}:\n",
       " 8  3  5  9  2  7  1  4  6\n",
       " 4  1  7  8  5  6  9  3  2\n",
       " 2  9  6  3  4  1  8  7  5\n",
       " 9  4  2  1  6  3  5  8  7\n",
       " 7  6  1  2  8  5  4  9  3\n",
       " 3  5  8  7  9  4  2  6  1\n",
       " 1  8  9  6  7  2  3  5  4\n",
       " 6  2  4  5  3  8  7  1  9\n",
       " 5  7  3  4  1  9  6  2  8"
      ]
     },
     "metadata": {},
     "output_type": "display_data"
    }
   ],
   "source": [
    "test.answer"
   ]
  }
 ],
 "metadata": {
  "kernelspec": {
   "display_name": "Julia 1.8.5",
   "language": "julia",
   "name": "julia-1.8"
  },
  "language_info": {
   "file_extension": ".jl",
   "mimetype": "application/julia",
   "name": "julia",
   "version": "1.8.5"
  },
  "orig_nbformat": 4
 },
 "nbformat": 4,
 "nbformat_minor": 2
}
